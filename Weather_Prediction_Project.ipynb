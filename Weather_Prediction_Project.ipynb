{
  "nbformat": 4,
  "nbformat_minor": 0,
  "metadata": {
    "colab": {
      "provenance": [],
      "authorship_tag": "ABX9TyObkoKyZ/jen9neRbv37CCD",
      "include_colab_link": true
    },
    "kernelspec": {
      "name": "python3",
      "display_name": "Python 3"
    },
    "language_info": {
      "name": "python"
    }
  },
  "cells": [
    {
      "cell_type": "markdown",
      "metadata": {
        "id": "view-in-github",
        "colab_type": "text"
      },
      "source": [
        "<a href=\"https://colab.research.google.com/github/lenkalapellypraveen/DataScienceHub/blob/Dev/Weather_Prediction_Project.ipynb\" target=\"_parent\"><img src=\"https://colab.research.google.com/assets/colab-badge.svg\" alt=\"Open In Colab\"/></a>"
      ]
    },
    {
      "cell_type": "markdown",
      "source": [
        "**1. Data Collection via API**"
      ],
      "metadata": {
        "id": "aw6CjI42dcL8"
      }
    },
    {
      "cell_type": "code",
      "source": [
        "import pandas as pd\n",
        "from datetime import datetime\n",
        "import requests\n",
        "import json\n",
        "import matplotlib.pyplot as plt\n",
        "from sklearn.model_selection import train_test_split\n",
        "from sklearn.linear_model import LinearRegression\n",
        "from sklearn.metrics import mean_squared_error\n",
        "import warnings\n",
        "warnings.filterwarnings(\"ignore\")"
      ],
      "metadata": {
        "id": "d_-2HLYBWvH8"
      },
      "execution_count": null,
      "outputs": []
    },
    {
      "cell_type": "code",
      "execution_count": null,
      "metadata": {
        "id": "UL-da632LFFF"
      },
      "outputs": [],
      "source": [
        "class Weather:\n",
        "    def __init__(self, base_url, api_key, city_name, dt, end_dt):\n",
        "        self.base_url = base_url\n",
        "        self.api_key = api_key\n",
        "        self.city_name = city_name\n",
        "        self.strt_dt = dt\n",
        "        self.end_dt = end_dt\n",
        "        self.weather_data = None\n",
        "        self.feels_like_temps = {}\n",
        "\n",
        "    def fetch_weather_data(self):\n",
        "        complete_url = f\"{self.base_url}?key={self.api_key}&q={self.city_name}&dt={self.strt_dt}&end_dt={self.end_dt}\"\n",
        "\n",
        "        try:\n",
        "            response = requests.get(complete_url)\n",
        "            self.weather_data = response.json()\n",
        "\n",
        "            print(f'weather_data: {self.weather_data}')\n",
        "\n",
        "            return pd.DataFrame(self.weather_data)\n",
        "\n",
        "        except requests.exceptions.RequestException as e:\n",
        "            print(\"HTTP Request failed:\", e)\n",
        "            return pd.DataFrame()\n",
        "        except Exception as e:\n",
        "            print(\"An unexpected error occurred:\", e)\n",
        "            return pd.DataFrame()\n",
        "\n",
        "    def plot_weather_data(self):\n",
        "        plt.figure(figsize=(20, 5))\n",
        "        for i in range(len(self.weather_data['forecast']['forecastday'])):\n",
        "            plt.plot(self.weather_data['forecast']['forecastday'][i]['date'], self.weather_data['forecast']['forecastday'][i]['day']['maxtemp_f'], marker='D')\n",
        "        plt.title('Temperature Trends')\n",
        "        plt.xlabel('Date')\n",
        "        plt.ylabel('Temperature (°F)')\n",
        "        plt.show()\n",
        "\n",
        "    def find_target_variable(self):\n",
        "        for i in range(len(self.weather_data['forecast']['forecastday'])):\n",
        "            date = self.weather_data['forecast']['forecastday'][i]['date']\n",
        "            daily_data = self.weather_data['forecast']['forecastday'][i]['day']\n",
        "            temp = daily_data['avgtemp_f']\n",
        "            wind_speed = daily_data['maxwind_mph']\n",
        "            humidity = daily_data['avghumidity']\n",
        "\n",
        "            feels_like = temp - 0.7 * wind_speed + 0.2 * humidity\n",
        "            self.feels_like_temps[date] = feels_like\n",
        "\n",
        "        for date, feels_like in self.feels_like_temps.items():\n",
        "            print(f\"On {date}, it will feel like {round(feels_like, 2)}°F\")\n",
        "\n",
        "    def model_building(self):\n",
        "        X_data = []\n",
        "        y_data = []\n",
        "\n",
        "        for i in range(len(self.weather_data['forecast']['forecastday'])):\n",
        "            daily_data = self.weather_data['forecast']['forecastday'][i]['day']\n",
        "            temp = daily_data['avgtemp_f']\n",
        "            wind_speed = daily_data['maxwind_mph']\n",
        "            humidity = daily_data['avghumidity']\n",
        "            X_data.append([temp, wind_speed, humidity])\n",
        "            y_data.append(temp - 0.7 * wind_speed + 0.2 * humidity)\n",
        "\n",
        "        model = LinearRegression()\n",
        "        model.fit(X_data, y_data)\n",
        "\n",
        "        # Split the data into training and testing sets\n",
        "        X_train, X_test, y_train, y_test = train_test_split(X_data, y_data, test_size=0.2, random_state=0)\n",
        "\n",
        "        # Initialize and train the model\n",
        "        model = LinearRegression()\n",
        "        model.fit(X_train, y_train)\n",
        "\n",
        "        # Predict on the test set\n",
        "        y_pred = model.predict(X_test)\n",
        "\n",
        "        # Evaluate the model\n",
        "        mse = mean_squared_error(y_test, y_pred)\n",
        "        print(f\"Mean Squared Error: {mse}\")\n",
        "\n",
        "        return model"
      ]
    },
    {
      "cell_type": "code",
      "source": [
        "api_key = \"d327dceec5d64e8eaaf32339242712\"\n",
        "base_url = \"http://api.weatherapi.com/v1/history.json\"\n",
        "city_name = \"Boca Raton\"\n",
        "dt=\"2025-01-10\"\n",
        "end_dt=\"2025-01-30\"\n",
        "weather_df_obj = Weather(base_url, api_key, city_name, dt, end_dt)\n",
        "weather_df = weather_df_obj.fetch_weather_data()"
      ],
      "metadata": {
        "colab": {
          "base_uri": "https://localhost:8080/"
        },
        "id": "FppCvxIiTHWd",
        "outputId": "470c4236-5990-4c6d-e7c3-a9c1ac797b25"
      },
      "execution_count": null,
      "outputs": [
        {
          "output_type": "stream",
          "name": "stdout",
          "text": [
            "weather_data: {'error': {'code': 1008, 'message': 'API key is limited to get history data. Please check our pricing page and upgrade to higher plan.'}}\n"
          ]
        }
      ]
    },
    {
      "cell_type": "markdown",
      "source": [
        "**2. Exploratory Data Analysis (EDA)**"
      ],
      "metadata": {
        "id": "SVyISG_ddf99"
      }
    },
    {
      "cell_type": "code",
      "source": [
        "if weather_df is not None and not weather_df.empty:\n",
        "    weather_df_obj.plot_weather_data()\n",
        "else:\n",
        "    print(\"No weather data available for plotting.\")"
      ],
      "metadata": {
        "colab": {
          "base_uri": "https://localhost:8080/",
          "height": 487
        },
        "id": "4rjKhWv4gvFI",
        "outputId": "e410a8f3-94b0-4060-863a-802ed2ad9912"
      },
      "execution_count": null,
      "outputs": [
        {
          "output_type": "display_data",
          "data": {
            "text/plain": [
              "<Figure size 2000x500 with 1 Axes>"
            ],
            "image/png": "[encoded data removed]"
          },
          "metadata": {}
        }
      ]
    },
    {
      "cell_type": "markdown",
      "source": [
        "**3. Finding target variable**"
      ],
      "metadata": {
        "id": "Ro2lvOd-DCdi"
      }
    },
    {
      "cell_type": "code",
      "source": [
        "weather_df_obj.find_target_variable()"
      ],
      "metadata": {
        "id": "KQGtKGqi3Dme",
        "colab": {
          "base_uri": "https://localhost:8080/"
        },
        "outputId": "d9607625-ae18-43ef-84a4-d893fb2e4028"
      },
      "execution_count": null,
      "outputs": [
        {
          "output_type": "stream",
          "name": "stdout",
          "text": [
            "On 2024-12-01, it will feel like 78.95°F\n",
            "On 2024-12-02, it will feel like 70.17°F\n",
            "On 2024-12-03, it will feel like 65.66°F\n",
            "On 2024-12-04, it will feel like 69.39°F\n",
            "On 2024-12-05, it will feel like 78.66°F\n",
            "On 2024-12-06, it will feel like 74.89°F\n",
            "On 2024-12-07, it will feel like 75.62°F\n",
            "On 2024-12-08, it will feel like 73.87°F\n",
            "On 2024-12-09, it will feel like 78.53°F\n",
            "On 2024-12-10, it will feel like 80.1°F\n",
            "On 2024-12-11, it will feel like 78.57°F\n",
            "On 2024-12-12, it will feel like 68.62°F\n",
            "On 2024-12-13, it will feel like 71.29°F\n",
            "On 2024-12-14, it will feel like 71.91°F\n",
            "On 2024-12-15, it will feel like 75.54°F\n",
            "On 2024-12-16, it will feel like 77.67°F\n",
            "On 2024-12-17, it will feel like 79.91°F\n",
            "On 2024-12-18, it will feel like 81.6°F\n",
            "On 2024-12-19, it will feel like 88.34°F\n",
            "On 2024-12-20, it will feel like 74.28°F\n",
            "On 2024-12-21, it will feel like 66.24°F\n",
            "On 2024-12-22, it will feel like 71.67°F\n",
            "On 2024-12-23, it will feel like 76.18°F\n",
            "On 2024-12-24, it will feel like 79.29°F\n",
            "On 2024-12-25, it will feel like 79.16°F\n",
            "On 2024-12-26, it will feel like 76.44°F\n",
            "On 2024-12-27, it will feel like 78.67°F\n",
            "On 2024-12-28, it will feel like 78.83°F\n",
            "On 2024-12-29, it will feel like 75.68°F\n",
            "On 2024-12-30, it will feel like 83.78°F\n",
            "On 2024-12-31, it will feel like 83.81°F\n"
          ]
        }
      ]
    },
    {
      "cell_type": "markdown",
      "source": [
        "**5. Model Building**"
      ],
      "metadata": {
        "id": "BKjLhGinopp-"
      }
    },
    {
      "cell_type": "code",
      "source": [
        "model = weather_df_obj.model_building()"
      ],
      "metadata": {
        "colab": {
          "base_uri": "https://localhost:8080/"
        },
        "id": "Pi7Eg4VfmaKL",
        "outputId": "032f4376-96bd-41fe-c0df-093568b4a77d"
      },
      "execution_count": null,
      "outputs": [
        {
          "output_type": "stream",
          "name": "stdout",
          "text": [
            "Mean Squared Error: 1.442488512404136e-28\n"
          ]
        }
      ]
    },
    {
      "cell_type": "code",
      "source": [
        "# Finding Model Coefficients\n",
        "print(\"Model Coefficients:\", model.coef_)"
      ],
      "metadata": {
        "colab": {
          "base_uri": "https://localhost:8080/"
        },
        "id": "OeOCNYTyum7u",
        "outputId": "616a0cd7-a6dd-41d7-e14d-8278441eedd1"
      },
      "execution_count": null,
      "outputs": [
        {
          "output_type": "stream",
          "name": "stdout",
          "text": [
            "Model Coefficients: [ 1.  -0.7  0.2]\n"
          ]
        }
      ]
    },
    {
      "cell_type": "markdown",
      "source": [
        "**6. Making Predictions**"
      ],
      "metadata": {
        "id": "NSrS3ZSuzayh"
      }
    },
    {
      "cell_type": "code",
      "source": [
        "# Predicting with hypothetical future data\n",
        "future_data = pd.DataFrame({\n",
        "    'avgtemp_f': [84],\n",
        "    'maxwind_mph': [6],\n",
        "    'avghumidity': [45]\n",
        "\n",
        "})\n",
        "\n",
        "future_temps = model.predict(future_data)\n",
        "print(f\"Predicted max temperature for future date: {future_temps}\")"
      ],
      "metadata": {
        "colab": {
          "base_uri": "https://localhost:8080/"
        },
        "id": "Bi-ag5y7zisM",
        "outputId": "e34d714a-8f10-49e4-f580-218a620a9485"
      },
      "execution_count": null,
      "outputs": [
        {
          "output_type": "stream",
          "name": "stdout",
          "text": [
            "Predicted max temperature for future date: [88.8]\n"
          ]
        }
      ]
    },
    {
      "cell_type": "code",
      "source": [],
      "metadata": {
        "id": "W_pa3Y8nizKY"
      },
      "execution_count": null,
      "outputs": []
    }
  ]
}